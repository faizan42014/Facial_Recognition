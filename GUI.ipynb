{
 "cells": [
  {
   "cell_type": "code",
   "execution_count": 2,
   "id": "87203f30",
   "metadata": {},
   "outputs": [],
   "source": [
    "import tkinter as tk\n",
    "from tkinter import filedialog\n",
    "from PIL import Image, ImageTk\n",
    "import pandas as pd\n",
    "import numpy as np\n",
    "import face_recognition\n",
    "import sqlite3"
   ]
  },
  {
   "cell_type": "markdown",
   "id": "c6d2b4fa",
   "metadata": {},
   "source": [
    "# 1. Function for Fetching all the Image Embeddings from the SQLite Database"
   ]
  },
  {
   "cell_type": "code",
   "execution_count": 3,
   "id": "df610717",
   "metadata": {},
   "outputs": [],
   "source": [
    "def get_embeddings():\n",
    "    \n",
    "    #connecting to sqlite\n",
    "    conn = sqlite3.connect(\"facial_recognition.db\")\n",
    "    \n",
    "    #querying to fetch all image embeddings\n",
    "    cur = conn.cursor()\n",
    "    cur.execute(\"SELECT * FROM embeds\")\n",
    "    \n",
    "    #fetching all embeddings\n",
    "    rows = cur.fetchall()\n",
    "    \n",
    "    #creating a list of all image names\n",
    "    image_names = [row[0] for row in rows]\n",
    "    \n",
    "    #creating a list of all image embeddings\n",
    "    image_embeds = [row[1:] for row in rows]\n",
    "    #converting list to numpy array\n",
    "    image_embeds = np.array(image_embeds)\n",
    "    \n",
    "    return image_names, image_embeds"
   ]
  },
  {
   "cell_type": "markdown",
   "id": "59efb544",
   "metadata": {},
   "source": [
    "# 2. Function for displaying image"
   ]
  },
  {
   "cell_type": "code",
   "execution_count": 4,
   "id": "0e467d96",
   "metadata": {},
   "outputs": [],
   "source": [
    "def display_image(img, row, col):\n",
    "    global tk_img\n",
    "    \n",
    "    img_resized = img.resize((150, 150)) # new width & height\n",
    "    tk_img = ImageTk.PhotoImage(img_resized)\n",
    "    \n",
    "    #displaying the input image using the label widget\n",
    "    img_label = tk.Label(input_img_frame, image=tk_img, padx=10, pady=10)\n",
    "    img_label.grid(row=row, column=col, pady=2)"
   ]
  },
  {
   "cell_type": "markdown",
   "id": "3a638747",
   "metadata": {},
   "source": [
    "# 3. Function for uploading .jpg images in the tkinter application"
   ]
  },
  {
   "cell_type": "code",
   "execution_count": 5,
   "id": "5f759f8c",
   "metadata": {},
   "outputs": [],
   "source": [
    "def upload_file():\n",
    "    global matched_imgs\n",
    "    # Opening the window to select the input image\n",
    "    f_types = [('Jpg Files', '*.jpg')]\n",
    "    filename = filedialog.askopenfilename(filetypes=f_types)\n",
    "    \n",
    "    #reading the input image\n",
    "    input_img = Image.open(filename)\n",
    "    \n",
    "    inp_img_label = tk.Label(input_img_frame, text=\"Input Image\", font=('Times New Roman',18,'bold', 'italic', 'underline'), anchor=\"center\", bg=\"black\", fg=\"orange\")\n",
    "    inp_img_label.grid(row=0, column=0)\n",
    "    \n",
    "    #displaybing the input image\n",
    "    display_image(input_img, 1, 0)\n",
    "    \n",
    "    img_name = tk.Label(input_img_frame, text=f\"{filename.split('/')[-1].split('.')[0]}\", font=(\"Times New Roman\", 14), fg=\"#39FF14\", bg=\"black\")\n",
    "    img_name.grid(row=2, column=0, pady=5)\n",
    "    \n",
    "    results = match(input_img)\n",
    "    sorted_results_idx = np.argsort(results)\n",
    "    \n",
    "    # coordinates of matched images on the gui\n",
    "    x, y = 0, 0\n",
    "    \n",
    "    #Displaying the top 6 matched images from our database\n",
    "    matched_imgs = []\n",
    "    for i, idx in enumerate(sorted_results_idx[:10]):\n",
    "            \n",
    "        match_image_name = image_names[idx]\n",
    "        matched_img = Image.open(f\"Train/{match_image_name}.jpg\")\n",
    "        matched_img = matched_img.resize((130,130)) # new width & height\n",
    "        img2 = ImageTk.PhotoImage(matched_img)\n",
    "        matched_imgs.append(img2)\n",
    "\n",
    "        matched_img_label = tk.Label(matches_frame, image=matched_imgs[-1], padx=10, pady=10) # using Button \n",
    "        matched_img_label.grid(row=x, column=y, padx=15, pady=5)\n",
    "\n",
    "        match_img_name = tk.Label(matches_frame, text=f\"{match_image_name} - {results[idx]: .2f}\", font=(\"Times New Roman\", 14), fg=\"#39FF14\", bg=\"black\")\n",
    "        match_img_name.grid(row=x+1, column=y, pady=5)\n",
    "\n",
    "        if y >= 4:\n",
    "            x += 2\n",
    "            y = 0\n",
    "        else:\n",
    "            y += 1"
   ]
  },
  {
   "cell_type": "markdown",
   "id": "bf7ea86b",
   "metadata": {},
   "source": [
    "# 4. Backend code for the Reset button"
   ]
  },
  {
   "cell_type": "code",
   "execution_count": 6,
   "id": "98dcc9a5",
   "metadata": {},
   "outputs": [],
   "source": [
    "def reset():\n",
    "    # looping through the childern(widgets) of the last two frame and destroying them if they are labels\n",
    "    for frame in root.winfo_children()[-2:]:\n",
    "        for widget in frame.winfo_children():\n",
    "            if isinstance(widget, tk.Label):\n",
    "                widget.destroy()"
   ]
  },
  {
   "cell_type": "markdown",
   "id": "8292c4aa",
   "metadata": {},
   "source": [
    "# 5. Function to match the input image embedding to the embeddings of all other images"
   ]
  },
  {
   "cell_type": "code",
   "execution_count": 7,
   "id": "1c201321",
   "metadata": {},
   "outputs": [],
   "source": [
    " def match(input_img):\n",
    "    #converting input image to NumPy array\n",
    "    input_img = np.array(input_img, dtype=np.uint8)\n",
    "    #generating the input image embedding\n",
    "    encoding = face_recognition.face_encodings(input_img)[0]\n",
    "    \n",
    "    #calculating the distance between input image and all the database images\n",
    "    results = face_recognition.api.face_distance(image_embeds, encoding)\n",
    "    \n",
    "    return results"
   ]
  },
  {
   "cell_type": "markdown",
   "id": "82f327d5",
   "metadata": {},
   "source": [
    "# 6. Main tkinter GUI code"
   ]
  },
  {
   "cell_type": "code",
   "execution_count": 8,
   "id": "c7612309",
   "metadata": {},
   "outputs": [],
   "source": [
    "root = tk.Tk()\n",
    "root.configure(bg='black')\n",
    "root.geometry(\"910x780\")\n",
    "\n",
    "image_names, image_embeds = get_embeddings()\n",
    "\n",
    "label = tk.Label(root, text=\"Facial Recognition\", font=(\"Times New Roman bold\", 34), height=2, anchor=\"s\", bg=\"white\")\n",
    "label.pack(side=\"top\", fill='both')\n",
    "\n",
    "canvas = tk.Canvas(root, bg='orange', height=3.5) ##FCC201\n",
    "canvas.pack(side=\"top\", fill='both')\n",
    "\n",
    "body = tk.Frame(root, bg=\"black\")\n",
    "body.pack(side=\"top\")\n",
    "\n",
    "button = tk.Button(body, text=\"Upload\", command=lambda: upload_file(), borderwidth=5, relief='ridge', padx=6, pady=5, font=(\"Times New Roman Bold\", 13), fg='black', bg='white')\n",
    "button.grid(row=0, column=0, padx=7, pady=10)\n",
    "\n",
    "reset_button = tk.Button(body, text=\"Reset\", command=lambda: reset(), borderwidth=5, relief='ridge', padx=6, pady=5, font=(\"Times New Roman Bold\", 13), fg='black', bg='white')\n",
    "reset_button.grid(row=0, column=1)\n",
    "\n",
    "input_img_frame = tk.Frame(root, bg=\"black\")\n",
    "input_img_frame.pack(side='top')\n",
    "\n",
    "matches_frame = tk.Frame(root, bg=\"black\")\n",
    "matches_frame.pack(side='top')\n",
    "\n",
    "root.mainloop()"
   ]
  },
  {
   "cell_type": "code",
   "execution_count": null,
   "id": "2092ba55",
   "metadata": {},
   "outputs": [],
   "source": []
  }
 ],
 "metadata": {
  "kernelspec": {
   "display_name": "CV",
   "language": "python",
   "name": "cv"
  },
  "language_info": {
   "codemirror_mode": {
    "name": "ipython",
    "version": 3
   },
   "file_extension": ".py",
   "mimetype": "text/x-python",
   "name": "python",
   "nbconvert_exporter": "python",
   "pygments_lexer": "ipython3",
   "version": "3.10.9"
  }
 },
 "nbformat": 4,
 "nbformat_minor": 5
}
